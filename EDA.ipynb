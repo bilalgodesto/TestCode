{
  "nbformat": 4,
  "nbformat_minor": 0,
  "metadata": {
    "colab": {
      "provenance": [],
      "authorship_tag": "ABX9TyMJyiTI8k+hztbsmmCSKgwS",
      "include_colab_link": true
    },
    "kernelspec": {
      "name": "python3",
      "display_name": "Python 3"
    },
    "language_info": {
      "name": "python"
    }
  },
  "cells": [
    {
      "cell_type": "markdown",
      "metadata": {
        "id": "view-in-github",
        "colab_type": "text"
      },
      "source": [
        "<a href=\"https://colab.research.google.com/github/bilalgodesto/TestCode/blob/master/EDA.ipynb\" target=\"_parent\"><img src=\"https://colab.research.google.com/assets/colab-badge.svg\" alt=\"Open In Colab\"/></a>"
      ]
    },
    {
      "cell_type": "markdown",
      "source": [
        "#EDA"
      ],
      "metadata": {
        "id": "hDRFD4XLljE_"
      }
    },
    {
      "cell_type": "code",
      "source": [
        "import pandas as pd\n",
        "import numpy as np\n",
        "import matplotlib.pyplot as plt\n",
        "import seaborn as sns\n",
        "%matplotlib inline\n"
      ],
      "metadata": {
        "id": "YVMhKfXalmv1"
      },
      "execution_count": 2,
      "outputs": []
    },
    {
      "cell_type": "code",
      "source": [
        "train_df = pd.read_excel('./Data_Train.xlsx')\n",
        "train_df.head()"
      ],
      "metadata": {
        "id": "18aNES1lnXST"
      },
      "execution_count": null,
      "outputs": []
    },
    {
      "cell_type": "code",
      "source": [
        "test_df = pd.read_excel('./Test_set.xlsx');\n",
        "test_df.head()"
      ],
      "metadata": {
        "id": "p1xlA4RLnwPJ"
      },
      "execution_count": null,
      "outputs": []
    },
    {
      "cell_type": "code",
      "source": [
        "final_df = train_df.append(test_df)\n",
        "final_df.tail()"
      ],
      "metadata": {
        "id": "z6T9wyS1n5-u"
      },
      "execution_count": null,
      "outputs": []
    },
    {
      "cell_type": "code",
      "source": [
        "final_df['Date_of_Journey'].str.split('/').str[0]"
      ],
      "metadata": {
        "id": "h9JwgsNVqGPF"
      },
      "execution_count": null,
      "outputs": []
    },
    {
      "cell_type": "code",
      "source": [
        "final_df['Date'] = final_df['Date_of_Journey'].str.split('/').str[0]\n",
        "final_df['Month'] = final_df['Date_of_Journey'].str.split('/').str[1]\n",
        "final_df['Year'] = final_df['Date_of_Journey'].str.split('/').str[2]\n",
        "\n",
        "final_df.head(2)\n"
      ],
      "metadata": {
        "id": "Rj_C5Lljppx2"
      },
      "execution_count": null,
      "outputs": []
    },
    {
      "cell_type": "code",
      "source": [
        "final_df['Month'] = final_df['Month'].astype(int)\n",
        "final_df['Date']  = final_df['Date'].astype(int)\n",
        "final_df['Year']  = final_df['Year'].astype(int)\n"
      ],
      "metadata": {
        "id": "oi02z2r_tqRN"
      },
      "execution_count": 45,
      "outputs": []
    },
    {
      "cell_type": "code",
      "source": [
        "final_df['Arrival_Time'] = final_df['Arrival_Time'].apply( lambda x:x.split(' ')[0])\n",
        "\n",
        "final_df.head(4)"
      ],
      "metadata": {
        "id": "ayvYGiBCVSMx"
      },
      "execution_count": null,
      "outputs": []
    },
    {
      "cell_type": "code",
      "source": [
        "final_df['Arrival_hour'] = final_df['Arrival_Time'].apply( lambda x:x.split(':')[0])\n",
        "\n",
        "final_df['Arrival_min'] = final_df['Arrival_Time'].apply( lambda x:x.split(':')[1])\n",
        "\n",
        "final_df['Arrival_hour']  = final_df['Arrival_hour'].astype(int)\n",
        "\n",
        "final_df['Arrival_min']  = final_df['Arrival_min'].astype(int)\n",
        "\n",
        "final_df.drop('Arrival_Time', axis= 1, inplace = True)\n",
        "\n",
        "final_df.info()"
      ],
      "metadata": {
        "id": "26DeROPNVtyg"
      },
      "execution_count": null,
      "outputs": []
    },
    {
      "cell_type": "code",
      "source": [
        "final_df['Dep_hour'] = final_df['Dep_Time'].apply( lambda x:x.split(':')[0])\n",
        "final_df['Dep_min'] = final_df['Dep_Time'].apply( lambda x:x.split(':')[1])\n",
        "final_df['Dep_hour']  = final_df['Dep_hour'].astype(int)\n",
        "final_df['Dep_min']  = final_df['Dep_min'].astype(int)\n",
        "\n",
        "final_df.drop('Dep_Time', axis= 1, inplace = True)\n",
        "final_df.head(4)"
      ],
      "metadata": {
        "id": "4WRuYEOxZNc9"
      },
      "execution_count": null,
      "outputs": []
    },
    {
      "cell_type": "code",
      "source": [
        "final_df['Total_Stops'].unique()"
      ],
      "metadata": {
        "colab": {
          "base_uri": "https://localhost:8080/"
        },
        "id": "AmrQjYiElBL0",
        "outputId": "342a7eb2-f8c1-4ae0-9034-a159f8ba9ea9"
      },
      "execution_count": 48,
      "outputs": [
        {
          "output_type": "execute_result",
          "data": {
            "text/plain": [
              "array(['non-stop', '2 stops', '1 stop', '3 stops', nan, '4 stops'],\n",
              "      dtype=object)"
            ]
          },
          "metadata": {},
          "execution_count": 48
        }
      ]
    },
    {
      "cell_type": "code",
      "source": [
        "final_df['Total_Stops']=final_df['Total_Stops'].map(\n",
        "      {'non-stop':0,'1 stop':1,'2 stops':2,'3 stops':3,'4 stops':4, 'nan': 1})\n",
        "\n",
        "\n",
        "final_df.head(3)"
      ],
      "metadata": {
        "id": "GDOGRAI5le6m"
      },
      "execution_count": null,
      "outputs": []
    },
    {
      "cell_type": "code",
      "source": [
        "final_df['duration_hour'] = final_df['Duration'].str.split(' ').str[0].str.split('h').str[0]\n",
        "final_df[ final_df['duration_hour'] == '5m']\n"
      ],
      "metadata": {
        "colab": {
          "base_uri": "https://localhost:8080/",
          "height": 113
        },
        "id": "55iSd3hWqA0W",
        "outputId": "e27ce006-fef1-455e-e1f3-b721ce80343b"
      },
      "execution_count": 61,
      "outputs": [
        {
          "output_type": "execute_result",
          "data": {
            "text/plain": [
              "Empty DataFrame\n",
              "Columns: [Airline, Date_of_Journey, Source, Destination, Route, Dep_Time, Duration, Total_Stops, Additional_Info, Price, Date, Month, Year, Arrival_hour, Arrival_min, duration_hour]\n",
              "Index: []"
            ],
            "text/html": [
              "\n",
              "  <div id=\"df-23edfe52-a155-4c8d-96f3-a44d8727bbb8\">\n",
              "    <div class=\"colab-df-container\">\n",
              "      <div>\n",
              "<style scoped>\n",
              "    .dataframe tbody tr th:only-of-type {\n",
              "        vertical-align: middle;\n",
              "    }\n",
              "\n",
              "    .dataframe tbody tr th {\n",
              "        vertical-align: top;\n",
              "    }\n",
              "\n",
              "    .dataframe thead th {\n",
              "        text-align: right;\n",
              "    }\n",
              "</style>\n",
              "<table border=\"1\" class=\"dataframe\">\n",
              "  <thead>\n",
              "    <tr style=\"text-align: right;\">\n",
              "      <th></th>\n",
              "      <th>Airline</th>\n",
              "      <th>Date_of_Journey</th>\n",
              "      <th>Source</th>\n",
              "      <th>Destination</th>\n",
              "      <th>Route</th>\n",
              "      <th>Dep_Time</th>\n",
              "      <th>Duration</th>\n",
              "      <th>Total_Stops</th>\n",
              "      <th>Additional_Info</th>\n",
              "      <th>Price</th>\n",
              "      <th>Date</th>\n",
              "      <th>Month</th>\n",
              "      <th>Year</th>\n",
              "      <th>Arrival_hour</th>\n",
              "      <th>Arrival_min</th>\n",
              "      <th>duration_hour</th>\n",
              "    </tr>\n",
              "  </thead>\n",
              "  <tbody>\n",
              "  </tbody>\n",
              "</table>\n",
              "</div>\n",
              "      <button class=\"colab-df-convert\" onclick=\"convertToInteractive('df-23edfe52-a155-4c8d-96f3-a44d8727bbb8')\"\n",
              "              title=\"Convert this dataframe to an interactive table.\"\n",
              "              style=\"display:none;\">\n",
              "        \n",
              "  <svg xmlns=\"http://www.w3.org/2000/svg\" height=\"24px\"viewBox=\"0 0 24 24\"\n",
              "       width=\"24px\">\n",
              "    <path d=\"M0 0h24v24H0V0z\" fill=\"none\"/>\n",
              "    <path d=\"M18.56 5.44l.94 2.06.94-2.06 2.06-.94-2.06-.94-.94-2.06-.94 2.06-2.06.94zm-11 1L8.5 8.5l.94-2.06 2.06-.94-2.06-.94L8.5 2.5l-.94 2.06-2.06.94zm10 10l.94 2.06.94-2.06 2.06-.94-2.06-.94-.94-2.06-.94 2.06-2.06.94z\"/><path d=\"M17.41 7.96l-1.37-1.37c-.4-.4-.92-.59-1.43-.59-.52 0-1.04.2-1.43.59L10.3 9.45l-7.72 7.72c-.78.78-.78 2.05 0 2.83L4 21.41c.39.39.9.59 1.41.59.51 0 1.02-.2 1.41-.59l7.78-7.78 2.81-2.81c.8-.78.8-2.07 0-2.86zM5.41 20L4 18.59l7.72-7.72 1.47 1.35L5.41 20z\"/>\n",
              "  </svg>\n",
              "      </button>\n",
              "      \n",
              "  <style>\n",
              "    .colab-df-container {\n",
              "      display:flex;\n",
              "      flex-wrap:wrap;\n",
              "      gap: 12px;\n",
              "    }\n",
              "\n",
              "    .colab-df-convert {\n",
              "      background-color: #E8F0FE;\n",
              "      border: none;\n",
              "      border-radius: 50%;\n",
              "      cursor: pointer;\n",
              "      display: none;\n",
              "      fill: #1967D2;\n",
              "      height: 32px;\n",
              "      padding: 0 0 0 0;\n",
              "      width: 32px;\n",
              "    }\n",
              "\n",
              "    .colab-df-convert:hover {\n",
              "      background-color: #E2EBFA;\n",
              "      box-shadow: 0px 1px 2px rgba(60, 64, 67, 0.3), 0px 1px 3px 1px rgba(60, 64, 67, 0.15);\n",
              "      fill: #174EA6;\n",
              "    }\n",
              "\n",
              "    [theme=dark] .colab-df-convert {\n",
              "      background-color: #3B4455;\n",
              "      fill: #D2E3FC;\n",
              "    }\n",
              "\n",
              "    [theme=dark] .colab-df-convert:hover {\n",
              "      background-color: #434B5C;\n",
              "      box-shadow: 0px 1px 3px 1px rgba(0, 0, 0, 0.15);\n",
              "      filter: drop-shadow(0px 1px 2px rgba(0, 0, 0, 0.3));\n",
              "      fill: #FFFFFF;\n",
              "    }\n",
              "  </style>\n",
              "\n",
              "      <script>\n",
              "        const buttonEl =\n",
              "          document.querySelector('#df-23edfe52-a155-4c8d-96f3-a44d8727bbb8 button.colab-df-convert');\n",
              "        buttonEl.style.display =\n",
              "          google.colab.kernel.accessAllowed ? 'block' : 'none';\n",
              "\n",
              "        async function convertToInteractive(key) {\n",
              "          const element = document.querySelector('#df-23edfe52-a155-4c8d-96f3-a44d8727bbb8');\n",
              "          const dataTable =\n",
              "            await google.colab.kernel.invokeFunction('convertToInteractive',\n",
              "                                                     [key], {});\n",
              "          if (!dataTable) return;\n",
              "\n",
              "          const docLinkHtml = 'Like what you see? Visit the ' +\n",
              "            '<a target=\"_blank\" href=https://colab.research.google.com/notebooks/data_table.ipynb>data table notebook</a>'\n",
              "            + ' to learn more about interactive tables.';\n",
              "          element.innerHTML = '';\n",
              "          dataTable['output_type'] = 'display_data';\n",
              "          await google.colab.output.renderOutput(dataTable, element);\n",
              "          const docLink = document.createElement('div');\n",
              "          docLink.innerHTML = docLinkHtml;\n",
              "          element.appendChild(docLink);\n",
              "        }\n",
              "      </script>\n",
              "    </div>\n",
              "  </div>\n",
              "  "
            ]
          },
          "metadata": {},
          "execution_count": 61
        }
      ]
    },
    {
      "cell_type": "code",
      "source": [
        "final_df.drop(6474, axis =0 , inplace = True)\n",
        "final_df.drop(2660, axis =0 , inplace = True)"
      ],
      "metadata": {
        "id": "s7APC-DAsnVD"
      },
      "execution_count": 60,
      "outputs": []
    },
    {
      "cell_type": "code",
      "source": [
        "final_df['duration_hour'] = final_df['duration_hour'].astype('int')\n",
        "final_df['duration_hour'] = final_df['duration_hour']  * 60\n",
        "final_df.drop('Duration', axis = 1, inplace = True)\n",
        "final_df.info()\n"
      ],
      "metadata": {
        "colab": {
          "base_uri": "https://localhost:8080/"
        },
        "id": "xcsHJ0Y0sfoY",
        "outputId": "7404c93a-733e-4b2e-c540-dbf3a6d3f087"
      },
      "execution_count": 63,
      "outputs": [
        {
          "output_type": "stream",
          "name": "stdout",
          "text": [
            "<class 'pandas.core.frame.DataFrame'>\n",
            "Int64Index: 13351 entries, 0 to 2670\n",
            "Data columns (total 15 columns):\n",
            " #   Column           Non-Null Count  Dtype  \n",
            "---  ------           --------------  -----  \n",
            " 0   Airline          13351 non-null  object \n",
            " 1   Date_of_Journey  13351 non-null  object \n",
            " 2   Source           13351 non-null  object \n",
            " 3   Destination      13351 non-null  object \n",
            " 4   Route            13350 non-null  object \n",
            " 5   Dep_Time         13351 non-null  object \n",
            " 6   Total_Stops      0 non-null      float64\n",
            " 7   Additional_Info  13351 non-null  object \n",
            " 8   Price            10681 non-null  float64\n",
            " 9   Date             13351 non-null  int64  \n",
            " 10  Month            13351 non-null  int64  \n",
            " 11  Year             13351 non-null  int64  \n",
            " 12  Arrival_hour     13351 non-null  int64  \n",
            " 13  Arrival_min      13351 non-null  int64  \n",
            " 14  duration_hour    13351 non-null  int64  \n",
            "dtypes: float64(2), int64(6), object(7)\n",
            "memory usage: 1.6+ MB\n"
          ]
        }
      ]
    },
    {
      "cell_type": "code",
      "source": [
        "final_df['Airline'].unique()"
      ],
      "metadata": {
        "colab": {
          "base_uri": "https://localhost:8080/"
        },
        "id": "wOtOqKCftUbb",
        "outputId": "65c35930-d155-4009-aaa0-e6b48b8e3189"
      },
      "execution_count": 64,
      "outputs": [
        {
          "output_type": "execute_result",
          "data": {
            "text/plain": [
              "array(['IndiGo', 'Air India', 'Jet Airways', 'SpiceJet',\n",
              "       'Multiple carriers', 'GoAir', 'Vistara', 'Air Asia',\n",
              "       'Vistara Premium economy', 'Jet Airways Business',\n",
              "       'Multiple carriers Premium economy', 'Trujet'], dtype=object)"
            ]
          },
          "metadata": {},
          "execution_count": 64
        }
      ]
    },
    {
      "cell_type": "code",
      "source": [
        "from sklearn.preprocessing import LabelEncoder\n",
        "labelEncoder = LabelEncoder()\n"
      ],
      "metadata": {
        "id": "E83Gs-jNtb9J"
      },
      "execution_count": 66,
      "outputs": []
    },
    {
      "cell_type": "code",
      "source": [
        "final_df['Airline'] = labelEncoder.fit_transform( final_df['Airline']  )\n",
        "\n",
        "final_df['Source'] = labelEncoder.fit_transform( final_df['Source']  )\n",
        "\n",
        "final_df['Destination'] = labelEncoder.fit_transform( final_df['Destination']  )\n",
        "\n",
        "final_df['Additional_Info'] = labelEncoder.fit_transform( final_df['Additional_Info']  )\n",
        "\n",
        "final_df.shape\n"
      ],
      "metadata": {
        "colab": {
          "base_uri": "https://localhost:8080/"
        },
        "id": "XVXP1KmpuAdv",
        "outputId": "eed127c9-c2c5-4055-d968-5691aaa708f4"
      },
      "execution_count": 70,
      "outputs": [
        {
          "output_type": "execute_result",
          "data": {
            "text/plain": [
              "(13351, 15)"
            ]
          },
          "metadata": {},
          "execution_count": 70
        }
      ]
    }
  ]
}